{
 "cells": [
  {
   "cell_type": "code",
   "execution_count": 2,
   "metadata": {},
   "outputs": [
    {
     "name": "stdout",
     "output_type": "stream",
     "text": [
      "\n",
      "\n",
      "\n",
      "<!DOCTYPE html>\n",
      "<html\n",
      "    xmlns:og=\"http://ogp.me/ns#\"\n",
      "    xmlns:fb=\"http://www.facebook.com/2008/fbml\">\n",
      "    <head>\n",
      "         \n",
      "        <meta charset=\"utf-8\">\n",
      "        <meta http-equiv=\"X-UA-Compatible\" content=\"IE=edge\">\n",
      "\n",
      "    <meta name=\"apple-itunes-app\" content=\"app-id=342792525, app-argument=imdb:///?src=mdot\">\n",
      "\n",
      "\n",
      "\n",
      "        <script type=\"text/javascript\">var IMDbTimer={starttime: new Date().getTime(),pt:'java'};</script>\n",
      "\n",
      "<script>\n",
      "    if (typeof uet == 'function') {\n",
      "      uet(\"bb\", \"LoadTitle\"\n"
     ]
    }
   ],
   "source": [
    "from requests import get\n",
    "url = 'http://www.imdb.com/search/title?release_date=2017&sort=num_votes,desc&page=1'\n",
    "response = get(url)\n",
    "print(response.text[:500])"
   ]
  },
  {
   "cell_type": "code",
   "execution_count": 4,
   "metadata": {},
   "outputs": [
    {
     "data": {
      "text/plain": [
       "bs4.BeautifulSoup"
      ]
     },
     "execution_count": 4,
     "metadata": {},
     "output_type": "execute_result"
    }
   ],
   "source": [
    "from bs4 import BeautifulSoup\n",
    "html_soup = BeautifulSoup(response.text,'html.parser')                          #html_soup is the object\n",
    "type(html_soup)"
   ]
  },
  {
   "cell_type": "code",
   "execution_count": 6,
   "metadata": {},
   "outputs": [
    {
     "name": "stdout",
     "output_type": "stream",
     "text": [
      "<class 'bs4.element.ResultSet'>\n",
      "50\n"
     ]
    }
   ],
   "source": [
    "movie_containers = html_soup.find_all('div',class_='lister-item mode-advanced')\n",
    "print(type(movie_containers))\n",
    "print(len(movie_containers))"
   ]
  },
  {
   "cell_type": "code",
   "execution_count": 7,
   "metadata": {},
   "outputs": [
    {
     "data": {
      "text/plain": [
       "<div class=\"lister-item mode-advanced\">\n",
       "<div class=\"lister-top-right\">\n",
       "<div class=\"ribbonize\" data-caller=\"filmosearch\" data-tconst=\"tt3315342\"></div>\n",
       "</div>\n",
       "<div class=\"lister-item-image float-left\">\n",
       "<a href=\"/title/tt3315342/\"> <img alt=\"Logan\" class=\"loadlate\" data-tconst=\"tt3315342\" height=\"98\" loadlate=\"https://m.media-amazon.com/images/M/MV5BYzc5MTU4N2EtYTkyMi00NjdhLTg3NWEtMTY4OTEyMzJhZTAzXkEyXkFqcGdeQXVyNjc1NTYyMjg@._V1_UX67_CR0,0,67,98_AL_.jpg\" src=\"https://m.media-amazon.com/images/G/01/imdb/images/nopicture/large/film-184890147._CB470041630_.png\" width=\"67\"/>\n",
       "</a> </div>\n",
       "<div class=\"lister-item-content\">\n",
       "<h3 class=\"lister-item-header\">\n",
       "<span class=\"lister-item-index unbold text-primary\">1.</span>\n",
       "<a href=\"/title/tt3315342/\">Logan</a>\n",
       "<span class=\"lister-item-year text-muted unbold\">(2017)</span>\n",
       "</h3>\n",
       "<p class=\"text-muted\">\n",
       "<span class=\"certificate\">A</span>\n",
       "<span class=\"ghost\">|</span>\n",
       "<span class=\"runtime\">137 min</span>\n",
       "<span class=\"ghost\">|</span>\n",
       "<span class=\"genre\">\n",
       "Action, Drama, Sci-Fi            </span>\n",
       "</p>\n",
       "<div class=\"ratings-bar\">\n",
       "<div class=\"inline-block ratings-imdb-rating\" data-value=\"8.1\" name=\"ir\">\n",
       "<span class=\"global-sprite rating-star imdb-rating\"></span>\n",
       "<strong>8.1</strong>\n",
       "</div>\n",
       "<div class=\"inline-block ratings-user-rating\">\n",
       "<span class=\"userRatingValue\" data-tconst=\"tt3315342\" id=\"urv_tt3315342\">\n",
       "<span class=\"global-sprite rating-star no-rating\"></span>\n",
       "<span class=\"rate\" data-no-rating=\"Rate this\" data-value=\"0\" name=\"ur\">Rate this</span>\n",
       "</span>\n",
       "<div class=\"starBarWidget\" id=\"sb_tt3315342\">\n",
       "<div class=\"rating rating-list\" data-auth=\"\" data-ga-identifier=\"\" data-starbar-class=\"rating-list\" data-user=\"\" id=\"tt3315342|imdb|8.1|8.1|||advsearch|title\" itemprop=\"aggregateRating\" itemscope=\"\" itemtype=\"http://schema.org/AggregateRating\" title=\"Users rated this 8.1/10 (573,759 votes) - click stars to rate\">\n",
       "<meta content=\"8.1\" itemprop=\"ratingValue\"/>\n",
       "<meta content=\"10\" itemprop=\"bestRating\"/>\n",
       "<meta content=\"573759\" itemprop=\"ratingCount\"/>\n",
       "<span class=\"rating-bg\"> </span>\n",
       "<span class=\"rating-imdb\" style=\"width: 113.4px\"> </span>\n",
       "<span class=\"rating-stars\">\n",
       "<a href=\"/register/login?why=vote\" rel=\"nofollow\" title=\"Register or login to rate this title\"><span>1</span></a>\n",
       "<a href=\"/register/login?why=vote\" rel=\"nofollow\" title=\"Register or login to rate this title\"><span>2</span></a>\n",
       "<a href=\"/register/login?why=vote\" rel=\"nofollow\" title=\"Register or login to rate this title\"><span>3</span></a>\n",
       "<a href=\"/register/login?why=vote\" rel=\"nofollow\" title=\"Register or login to rate this title\"><span>4</span></a>\n",
       "<a href=\"/register/login?why=vote\" rel=\"nofollow\" title=\"Register or login to rate this title\"><span>5</span></a>\n",
       "<a href=\"/register/login?why=vote\" rel=\"nofollow\" title=\"Register or login to rate this title\"><span>6</span></a>\n",
       "<a href=\"/register/login?why=vote\" rel=\"nofollow\" title=\"Register or login to rate this title\"><span>7</span></a>\n",
       "<a href=\"/register/login?why=vote\" rel=\"nofollow\" title=\"Register or login to rate this title\"><span>8</span></a>\n",
       "<a href=\"/register/login?why=vote\" rel=\"nofollow\" title=\"Register or login to rate this title\"><span>9</span></a>\n",
       "<a href=\"/register/login?why=vote\" rel=\"nofollow\" title=\"Register or login to rate this title\"><span>10</span></a>\n",
       "</span>\n",
       "<span class=\"rating-rating\"><span class=\"value\">8.1</span><span class=\"grey\">/</span><span class=\"grey\">10</span></span>\n",
       "<span class=\"rating-cancel\"><a href=\"/title/tt3315342/vote?v=X;k=\" rel=\"nofollow\" title=\"Delete\"><span>X</span></a></span>\n",
       " </div>\n",
       "</div>\n",
       "</div>\n",
       "<div class=\"inline-block ratings-metascore\">\n",
       "<span class=\"metascore favorable\">77        </span>\n",
       "        Metascore\n",
       "            </div>\n",
       "</div>\n",
       "<p class=\"text-muted\">\n",
       "    In a future where mutants are nearly extinct, an elderly and weary Logan leads a quiet life. But when Laura, a mutant child pursued by scientists, comes to him for help, he must get her to safety.</p>\n",
       "<p class=\"\">\n",
       "    Director:\n",
       "<a href=\"/name/nm0003506/\">James Mangold</a>\n",
       "<span class=\"ghost\">|</span> \n",
       "    Stars:\n",
       "<a href=\"/name/nm0413168/\">Hugh Jackman</a>, \n",
       "<a href=\"/name/nm0001772/\">Patrick Stewart</a>, \n",
       "<a href=\"/name/nm6748436/\">Dafne Keen</a>, \n",
       "<a href=\"/name/nm2933542/\">Boyd Holbrook</a>\n",
       "</p>\n",
       "<p class=\"sort-num_votes-visible\">\n",
       "<span class=\"text-muted\">Votes:</span>\n",
       "<span data-value=\"573759\" name=\"nv\">573,759</span>\n",
       "<span class=\"ghost\">|</span> <span class=\"text-muted\">Gross:</span>\n",
       "<span data-value=\"226,277,068\" name=\"nv\">$226.28M</span>\n",
       "</p>\n",
       "</div>\n",
       "</div>"
      ]
     },
     "execution_count": 7,
     "metadata": {},
     "output_type": "execute_result"
    }
   ],
   "source": [
    "movie_containers[0]"
   ]
  },
  {
   "cell_type": "code",
   "execution_count": 11,
   "metadata": {},
   "outputs": [
    {
     "data": {
      "text/plain": [
       "<div class=\"lister-top-right\">\n",
       "<div class=\"ribbonize\" data-caller=\"filmosearch\" data-tconst=\"tt3315342\"></div>\n",
       "</div>"
      ]
     },
     "execution_count": 11,
     "metadata": {},
     "output_type": "execute_result"
    }
   ],
   "source": [
    "first_movie = movie_containers[0]\n",
    "first_movie.div"
   ]
  },
  {
   "cell_type": "code",
   "execution_count": 12,
   "metadata": {},
   "outputs": [
    {
     "data": {
      "text/plain": [
       "<h3 class=\"lister-item-header\">\n",
       "<span class=\"lister-item-index unbold text-primary\">1.</span>\n",
       "<a href=\"/title/tt3315342/\">Logan</a>\n",
       "<span class=\"lister-item-year text-muted unbold\">(2017)</span>\n",
       "</h3>"
      ]
     },
     "execution_count": 12,
     "metadata": {},
     "output_type": "execute_result"
    }
   ],
   "source": [
    "first_movie.h3"
   ]
  },
  {
   "cell_type": "code",
   "execution_count": 13,
   "metadata": {},
   "outputs": [
    {
     "data": {
      "text/plain": [
       "<a href=\"/title/tt3315342/\">Logan</a>"
      ]
     },
     "execution_count": 13,
     "metadata": {},
     "output_type": "execute_result"
    }
   ],
   "source": [
    "first_movie.h3.a"
   ]
  },
  {
   "cell_type": "code",
   "execution_count": 14,
   "metadata": {},
   "outputs": [
    {
     "data": {
      "text/plain": [
       "'Logan'"
      ]
     },
     "execution_count": 14,
     "metadata": {},
     "output_type": "execute_result"
    }
   ],
   "source": [
    "first_name=first_movie.h3.a.text\n",
    "first_name"
   ]
  },
  {
   "cell_type": "code",
   "execution_count": 15,
   "metadata": {},
   "outputs": [
    {
     "data": {
      "text/plain": [
       "<span class=\"lister-item-index unbold text-primary\">1.</span>"
      ]
     },
     "execution_count": 15,
     "metadata": {},
     "output_type": "execute_result"
    }
   ],
   "source": [
    "first_movie.h3.span"
   ]
  },
  {
   "cell_type": "code",
   "execution_count": 22,
   "metadata": {},
   "outputs": [
    {
     "name": "stdout",
     "output_type": "stream",
     "text": [
      "(2017)\n"
     ]
    }
   ],
   "source": [
    "first_year = first_movie.h3.find('span', class_='lister-item-year text-muted')        #class is always searched as class_\n",
    "first_year=first_year.text\n",
    "print(first_year)"
   ]
  },
  {
   "cell_type": "code",
   "execution_count": 32,
   "metadata": {},
   "outputs": [
    {
     "name": "stdout",
     "output_type": "stream",
     "text": [
      "\n",
      "\n",
      "8.1\n",
      "\n"
     ]
    }
   ],
   "source": [
    "first_rating = first_movie.find('div', class_='inline-block ratings-imdb-rating' )\n",
    "first_rating = first_rating.text\n",
    "print(first_rating)"
   ]
  },
  {
   "cell_type": "code",
   "execution_count": 34,
   "metadata": {},
   "outputs": [
    {
     "name": "stdout",
     "output_type": "stream",
     "text": [
      "77        \n"
     ]
    }
   ],
   "source": [
    "first_score = first_movie.find('span', class_ ='metascore favorable')\n",
    "print(first_score.text)"
   ]
  },
  {
   "cell_type": "code",
   "execution_count": 39,
   "metadata": {},
   "outputs": [
    {
     "name": "stdout",
     "output_type": "stream",
     "text": [
      "573,759\n",
      "573759\n"
     ]
    }
   ],
   "source": [
    "first_votes = first_movie.find('span', attrs = {'name':'nv'})     #there is one other tag that is similar to it but since\n",
    "print(first_votes.text)                                           # .find fn only returns the first value\n",
    "print(first_votes['data-value'])                                  # AND there is a different way of finding things in name "
   ]
  },
  {
   "cell_type": "code",
   "execution_count": 62,
   "metadata": {},
   "outputs": [],
   "source": [
    "\"\"\"COMBINING ALL THE ABOVE CODE SNIPPETS\"\"\"\n",
    "names = []\n",
    "years = []\n",
    "imdb_ratings = []\n",
    "metascores = []\n",
    "votes = []\n",
    "\n",
    "for container in movie_containers:\n",
    "    if container.find('span',class_='metascore favorable') is not None:\n",
    "        name=container.h3.a.text\n",
    "        names.append(name)\n",
    "        year = container.h3.find('span', class_ = 'lister-item-year').text\n",
    "        years.append(year)\n",
    "        rating=float(container.find('div', class_='inline-block ratings-imdb-rating' ).text)\n",
    "        imdb_ratings.append(rating)\n",
    "        vote=container.find('span', attrs = {'name':'nv'})['data-value']  #Here we donot want to get text we want to find the \n",
    "        votes.append(vote)                                                    # actual no of votes\n",
    "        m_score = container.find('span', class_ ='metascore favorable').text\n",
    "        metascores.append(int(m_score))\n",
    "    \n",
    "        "
   ]
  },
  {
   "cell_type": "code",
   "execution_count": 63,
   "metadata": {},
   "outputs": [
    {
     "name": "stdout",
     "output_type": "stream",
     "text": [
      "<class 'pandas.core.frame.DataFrame'>\n",
      "RangeIndex: 27 entries, 0 to 26\n",
      "Data columns (total 5 columns):\n",
      "movie        27 non-null object\n",
      "year         27 non-null object\n",
      "imdb         27 non-null float64\n",
      "metascore    27 non-null int64\n",
      "votes        27 non-null object\n",
      "dtypes: float64(1), int64(1), object(3)\n",
      "memory usage: 1.1+ KB\n",
      "None\n"
     ]
    },
    {
     "data": {
      "text/html": [
       "<div>\n",
       "<style scoped>\n",
       "    .dataframe tbody tr th:only-of-type {\n",
       "        vertical-align: middle;\n",
       "    }\n",
       "\n",
       "    .dataframe tbody tr th {\n",
       "        vertical-align: top;\n",
       "    }\n",
       "\n",
       "    .dataframe thead th {\n",
       "        text-align: right;\n",
       "    }\n",
       "</style>\n",
       "<table border=\"1\" class=\"dataframe\">\n",
       "  <thead>\n",
       "    <tr style=\"text-align: right;\">\n",
       "      <th></th>\n",
       "      <th>movie</th>\n",
       "      <th>year</th>\n",
       "      <th>imdb</th>\n",
       "      <th>metascore</th>\n",
       "      <th>votes</th>\n",
       "    </tr>\n",
       "  </thead>\n",
       "  <tbody>\n",
       "    <tr>\n",
       "      <th>0</th>\n",
       "      <td>Logan</td>\n",
       "      <td>(2017)</td>\n",
       "      <td>8.1</td>\n",
       "      <td>77</td>\n",
       "      <td>573759</td>\n",
       "    </tr>\n",
       "    <tr>\n",
       "      <th>1</th>\n",
       "      <td>Thor: Ragnarok</td>\n",
       "      <td>(2017)</td>\n",
       "      <td>7.9</td>\n",
       "      <td>74</td>\n",
       "      <td>504224</td>\n",
       "    </tr>\n",
       "    <tr>\n",
       "      <th>2</th>\n",
       "      <td>Guardians of the Galaxy Vol. 2</td>\n",
       "      <td>(2017)</td>\n",
       "      <td>7.6</td>\n",
       "      <td>67</td>\n",
       "      <td>499818</td>\n",
       "    </tr>\n",
       "    <tr>\n",
       "      <th>3</th>\n",
       "      <td>Wonder Woman</td>\n",
       "      <td>(2017)</td>\n",
       "      <td>7.4</td>\n",
       "      <td>76</td>\n",
       "      <td>497974</td>\n",
       "    </tr>\n",
       "    <tr>\n",
       "      <th>4</th>\n",
       "      <td>Dunkirk</td>\n",
       "      <td>(2017)</td>\n",
       "      <td>7.9</td>\n",
       "      <td>94</td>\n",
       "      <td>477864</td>\n",
       "    </tr>\n",
       "    <tr>\n",
       "      <th>5</th>\n",
       "      <td>Star Wars: Episode VIII - The Last Jedi</td>\n",
       "      <td>(2017)</td>\n",
       "      <td>7.1</td>\n",
       "      <td>85</td>\n",
       "      <td>472435</td>\n",
       "    </tr>\n",
       "    <tr>\n",
       "      <th>6</th>\n",
       "      <td>Spider-Man: Homecoming</td>\n",
       "      <td>(2017)</td>\n",
       "      <td>7.5</td>\n",
       "      <td>73</td>\n",
       "      <td>448265</td>\n",
       "    </tr>\n",
       "    <tr>\n",
       "      <th>7</th>\n",
       "      <td>Get Out</td>\n",
       "      <td>(I) (2017)</td>\n",
       "      <td>7.7</td>\n",
       "      <td>84</td>\n",
       "      <td>416483</td>\n",
       "    </tr>\n",
       "    <tr>\n",
       "      <th>8</th>\n",
       "      <td>Blade Runner 2049</td>\n",
       "      <td>(2017)</td>\n",
       "      <td>8.0</td>\n",
       "      <td>81</td>\n",
       "      <td>387710</td>\n",
       "    </tr>\n",
       "    <tr>\n",
       "      <th>9</th>\n",
       "      <td>Baby Driver</td>\n",
       "      <td>(2017)</td>\n",
       "      <td>7.6</td>\n",
       "      <td>86</td>\n",
       "      <td>377618</td>\n",
       "    </tr>\n",
       "    <tr>\n",
       "      <th>10</th>\n",
       "      <td>It</td>\n",
       "      <td>(I) (2017)</td>\n",
       "      <td>7.4</td>\n",
       "      <td>69</td>\n",
       "      <td>376577</td>\n",
       "    </tr>\n",
       "    <tr>\n",
       "      <th>11</th>\n",
       "      <td>Three Billboards Outside Ebbing, Missouri</td>\n",
       "      <td>(2017)</td>\n",
       "      <td>8.2</td>\n",
       "      <td>88</td>\n",
       "      <td>356199</td>\n",
       "    </tr>\n",
       "    <tr>\n",
       "      <th>12</th>\n",
       "      <td>The Shape of Water</td>\n",
       "      <td>(2017)</td>\n",
       "      <td>7.3</td>\n",
       "      <td>87</td>\n",
       "      <td>317629</td>\n",
       "    </tr>\n",
       "    <tr>\n",
       "      <th>13</th>\n",
       "      <td>John Wick: Chapter 2</td>\n",
       "      <td>(2017)</td>\n",
       "      <td>7.5</td>\n",
       "      <td>75</td>\n",
       "      <td>308152</td>\n",
       "    </tr>\n",
       "    <tr>\n",
       "      <th>14</th>\n",
       "      <td>Coco</td>\n",
       "      <td>(I) (2017)</td>\n",
       "      <td>8.4</td>\n",
       "      <td>81</td>\n",
       "      <td>291418</td>\n",
       "    </tr>\n",
       "    <tr>\n",
       "      <th>15</th>\n",
       "      <td>Beauty and the Beast</td>\n",
       "      <td>(2017)</td>\n",
       "      <td>7.2</td>\n",
       "      <td>65</td>\n",
       "      <td>243947</td>\n",
       "    </tr>\n",
       "    <tr>\n",
       "      <th>16</th>\n",
       "      <td>Kong: Skull Island</td>\n",
       "      <td>(2017)</td>\n",
       "      <td>6.6</td>\n",
       "      <td>62</td>\n",
       "      <td>243719</td>\n",
       "    </tr>\n",
       "    <tr>\n",
       "      <th>17</th>\n",
       "      <td>Alien: Covenant</td>\n",
       "      <td>(2017)</td>\n",
       "      <td>6.4</td>\n",
       "      <td>65</td>\n",
       "      <td>231221</td>\n",
       "    </tr>\n",
       "    <tr>\n",
       "      <th>18</th>\n",
       "      <td>War for the Planet of the Apes</td>\n",
       "      <td>(2017)</td>\n",
       "      <td>7.4</td>\n",
       "      <td>82</td>\n",
       "      <td>205950</td>\n",
       "    </tr>\n",
       "    <tr>\n",
       "      <th>19</th>\n",
       "      <td>Lady Bird</td>\n",
       "      <td>(2017)</td>\n",
       "      <td>7.4</td>\n",
       "      <td>94</td>\n",
       "      <td>183848</td>\n",
       "    </tr>\n",
       "    <tr>\n",
       "      <th>20</th>\n",
       "      <td>Wind River</td>\n",
       "      <td>(2017)</td>\n",
       "      <td>7.7</td>\n",
       "      <td>73</td>\n",
       "      <td>173934</td>\n",
       "    </tr>\n",
       "    <tr>\n",
       "      <th>21</th>\n",
       "      <td>Mother!</td>\n",
       "      <td>(2017)</td>\n",
       "      <td>6.6</td>\n",
       "      <td>75</td>\n",
       "      <td>162103</td>\n",
       "    </tr>\n",
       "    <tr>\n",
       "      <th>22</th>\n",
       "      <td>Call Me by Your Name</td>\n",
       "      <td>(2017)</td>\n",
       "      <td>7.9</td>\n",
       "      <td>93</td>\n",
       "      <td>160021</td>\n",
       "    </tr>\n",
       "    <tr>\n",
       "      <th>23</th>\n",
       "      <td>Atomic Blonde</td>\n",
       "      <td>(2017)</td>\n",
       "      <td>6.7</td>\n",
       "      <td>63</td>\n",
       "      <td>154502</td>\n",
       "    </tr>\n",
       "    <tr>\n",
       "      <th>24</th>\n",
       "      <td>I, Tonya</td>\n",
       "      <td>(2017)</td>\n",
       "      <td>7.5</td>\n",
       "      <td>77</td>\n",
       "      <td>147175</td>\n",
       "    </tr>\n",
       "    <tr>\n",
       "      <th>25</th>\n",
       "      <td>Darkest Hour</td>\n",
       "      <td>(2017)</td>\n",
       "      <td>7.4</td>\n",
       "      <td>75</td>\n",
       "      <td>140311</td>\n",
       "    </tr>\n",
       "    <tr>\n",
       "      <th>26</th>\n",
       "      <td>American Made</td>\n",
       "      <td>(2017)</td>\n",
       "      <td>7.1</td>\n",
       "      <td>65</td>\n",
       "      <td>136091</td>\n",
       "    </tr>\n",
       "  </tbody>\n",
       "</table>\n",
       "</div>"
      ],
      "text/plain": [
       "                                        movie        year  imdb  metascore  \\\n",
       "0                                       Logan      (2017)   8.1         77   \n",
       "1                              Thor: Ragnarok      (2017)   7.9         74   \n",
       "2              Guardians of the Galaxy Vol. 2      (2017)   7.6         67   \n",
       "3                                Wonder Woman      (2017)   7.4         76   \n",
       "4                                     Dunkirk      (2017)   7.9         94   \n",
       "5     Star Wars: Episode VIII - The Last Jedi      (2017)   7.1         85   \n",
       "6                      Spider-Man: Homecoming      (2017)   7.5         73   \n",
       "7                                     Get Out  (I) (2017)   7.7         84   \n",
       "8                           Blade Runner 2049      (2017)   8.0         81   \n",
       "9                                 Baby Driver      (2017)   7.6         86   \n",
       "10                                         It  (I) (2017)   7.4         69   \n",
       "11  Three Billboards Outside Ebbing, Missouri      (2017)   8.2         88   \n",
       "12                         The Shape of Water      (2017)   7.3         87   \n",
       "13                       John Wick: Chapter 2      (2017)   7.5         75   \n",
       "14                                       Coco  (I) (2017)   8.4         81   \n",
       "15                       Beauty and the Beast      (2017)   7.2         65   \n",
       "16                         Kong: Skull Island      (2017)   6.6         62   \n",
       "17                            Alien: Covenant      (2017)   6.4         65   \n",
       "18             War for the Planet of the Apes      (2017)   7.4         82   \n",
       "19                                  Lady Bird      (2017)   7.4         94   \n",
       "20                                 Wind River      (2017)   7.7         73   \n",
       "21                                    Mother!      (2017)   6.6         75   \n",
       "22                       Call Me by Your Name      (2017)   7.9         93   \n",
       "23                              Atomic Blonde      (2017)   6.7         63   \n",
       "24                                   I, Tonya      (2017)   7.5         77   \n",
       "25                               Darkest Hour      (2017)   7.4         75   \n",
       "26                              American Made      (2017)   7.1         65   \n",
       "\n",
       "     votes  \n",
       "0   573759  \n",
       "1   504224  \n",
       "2   499818  \n",
       "3   497974  \n",
       "4   477864  \n",
       "5   472435  \n",
       "6   448265  \n",
       "7   416483  \n",
       "8   387710  \n",
       "9   377618  \n",
       "10  376577  \n",
       "11  356199  \n",
       "12  317629  \n",
       "13  308152  \n",
       "14  291418  \n",
       "15  243947  \n",
       "16  243719  \n",
       "17  231221  \n",
       "18  205950  \n",
       "19  183848  \n",
       "20  173934  \n",
       "21  162103  \n",
       "22  160021  \n",
       "23  154502  \n",
       "24  147175  \n",
       "25  140311  \n",
       "26  136091  "
      ]
     },
     "execution_count": 63,
     "metadata": {},
     "output_type": "execute_result"
    }
   ],
   "source": [
    "import pandas as pd\n",
    "test_df = pd.DataFrame({'movie':names,\n",
    "                        'year':years,\n",
    "                       'imdb':imdb_ratings,\n",
    "                       'metascore':metascores,\n",
    "                       'votes':votes})                                             #DataFrame has D and F capitals\n",
    "\n",
    "\n",
    "print(test_df.info())\n",
    "test_df"
   ]
  },
  {
   "cell_type": "code",
   "execution_count": null,
   "metadata": {},
   "outputs": [],
   "source": []
  }
 ],
 "metadata": {
  "kernelspec": {
   "display_name": "Python 3",
   "language": "python",
   "name": "python3"
  },
  "language_info": {
   "codemirror_mode": {
    "name": "ipython",
    "version": 3
   },
   "file_extension": ".py",
   "mimetype": "text/x-python",
   "name": "python",
   "nbconvert_exporter": "python",
   "pygments_lexer": "ipython3",
   "version": "3.7.3"
  }
 },
 "nbformat": 4,
 "nbformat_minor": 2
}
